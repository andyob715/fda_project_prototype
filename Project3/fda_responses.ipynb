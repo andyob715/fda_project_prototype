{
 "cells": [
  {
   "cell_type": "code",
   "execution_count": 2,
   "metadata": {},
   "outputs": [],
   "source": [
    "# Dependencies\n",
    "import json\n",
    "import requests\n",
    "# from config import api_key"
   ]
  },
  {
   "cell_type": "code",
   "execution_count": 7,
   "metadata": {},
   "outputs": [
    {
     "data": {
      "text/plain": [
       "'https://api.fda.gov/food/enforcement.json?limit=20'"
      ]
     },
     "execution_count": 7,
     "metadata": {},
     "output_type": "execute_result"
    }
   ],
   "source": [
    "# Save config information\n",
    "\n",
    "url = \"https://api.fda.gov/food/enforcement.json?limit=\"\n",
    "limit = 20\n",
    "\n",
    "# Build query URL\n",
    "query_url = f'{url}{limit}'\n",
    "\n",
    "query_url"
   ]
  },
  {
   "cell_type": "code",
   "execution_count": 20,
   "metadata": {},
   "outputs": [
    {
     "data": {
      "text/plain": [
       "'Davie'"
      ]
     },
     "execution_count": 20,
     "metadata": {},
     "output_type": "execute_result"
    }
   ],
   "source": [
    "# Get weather data\n",
    "fda_response = requests.get(query_url)\n",
    "fdaresponse = fda_response.json()\n",
    "\n",
    "\n",
    "\n",
    "#empty lists\n",
    "country = []\n",
    "city = []\n",
    "address_1 = []\n",
    "reason_for_recall = []\n",
    "postal_code = []\n",
    "voluntary_mandated = []\n",
    "\n",
    "# Get the temperature from the response\n",
    "country = fdaresponse[\"results\"][0][\"country\"]\n",
    "city = fdaresponse[\"results\"][0][\"city\"]\n",
    "address_1 = fdaresponse[\"results\"][0][\"address_1\"]\n",
    "reason_for_recall = fdaresponse[\"results\"][0][\"reason_for_recall\"]\n",
    "postal_code = fdaresponse[\"results\"][0][\"postal_code\"]\n",
    "voluntary_mandated = fdaresponse[\"results\"][0][\"voluntary_mandated\"]\n",
    "\n",
    "city"
   ]
  },
  {
   "cell_type": "code",
   "execution_count": 16,
   "metadata": {},
   "outputs": [],
   "source": [
    "fda_data = []"
   ]
  },
  {
   "cell_type": "code",
   "execution_count": null,
   "metadata": {},
   "outputs": [],
   "source": [
    "for index,row in fda_data.iterrows():\n",
    "    \n",
    "    target_city_row = row[\"City Lookup\"]\n",
    "    \n",
    "    target_city = f\"{target_city_row}\"\n",
    "\n",
    "# Build the endpoint URL\n",
    "    target_url = ('https://maps.googleapis.com/maps/api/geocode/json?'\n",
    "    'address={0}&key={1}').format(target_city, gkey)\n",
    "    \n",
    "    geo_data = requests.get(target_url).json()\n",
    "    \n",
    "# Extract latitude and longitude\n",
    "    try:\n",
    "        list_loc_df.loc[index,\"Lat\"] = geo_data[\"results\"][0][\"geometry\"][\"location\"][\"lat\"]\n",
    "        list_loc_df.loc[index,\"Lng\"] = geo_data[\"results\"][0][\"geometry\"][\"location\"][\"lng\"]\n",
    "        print(f\"Record found at {target_city}\")\n",
    "    except (KeyError, IndexError):\n",
    "        print(f\"Record could not be found at {target_city}\")\n",
    "        lonely_city = target_city_row"
   ]
  }
 ],
 "metadata": {
  "kernelspec": {
   "display_name": "Python 3",
   "language": "python",
   "name": "python3"
  },
  "varInspector": {
   "cols": {
    "lenName": 16,
    "lenType": 16,
    "lenVar": 40
   },
   "kernels_config": {
    "python": {
     "delete_cmd_postfix": "",
     "delete_cmd_prefix": "del ",
     "library": "var_list.py",
     "varRefreshCmd": "print(var_dic_list())"
    },
    "r": {
     "delete_cmd_postfix": ") ",
     "delete_cmd_prefix": "rm(",
     "library": "var_list.r",
     "varRefreshCmd": "cat(var_dic_list()) "
    }
   },
   "types_to_exclude": [
    "module",
    "function",
    "builtin_function_or_method",
    "instance",
    "_Feature"
   ],
   "window_display": false
  }
 },
 "nbformat": 4,
 "nbformat_minor": 2
}
